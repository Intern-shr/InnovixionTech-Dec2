{
 "cells": [
  {
   "cell_type": "code",
   "execution_count": 2,
   "id": "226cf5da",
   "metadata": {},
   "outputs": [
    {
     "name": "stdout",
     "output_type": "stream",
     "text": [
      "Welcome to the Number Guessing Game!\n",
      "I have chosen a number. Try to guess it.\n",
      "Enter your guess: 7\n",
      "Too low! Try again.\n",
      "Enter your guess: 50\n",
      "Too high! Try again.\n",
      "Enter your guess: 23\n",
      "Too high! Try again.\n",
      "Sorry, you've run out of attempts. The correct number was 12. Better luck next time.\n"
     ]
    }
   ],
   "source": [
    "import random\n",
    "\n",
    "def number_guessing_game():\n",
    "    print(\"Welcome to the Number Guessing Game!\")\n",
    "    print(\"I have chosen a number between 1 and 100. Try to guess it.\")\n",
    "\n",
    "    secret_number = random.randint(1, 100)\n",
    "\n",
    "    # Setting the maximum number of attempts\n",
    "    max_attempts = 3\n",
    "\n",
    "    for attempt in range(1, max_attempts + 1):\n",
    "        guess = int(input(\"Enter your guess: \"))\n",
    "\n",
    "        # Checking if the guess is correct\n",
    "        if guess == secret_number:\n",
    "            print(f\"Congratulations! You guessed the number in {attempt} attempts.\")\n",
    "            break\n",
    "        elif guess < secret_number:\n",
    "            print(\"Too low! Try again.\")\n",
    "        else:\n",
    "            print(\"Too high! Try again.\")\n",
    "\n",
    "        # Checking if the user has used all attempts\n",
    "        if attempt == max_attempts:\n",
    "            print(f\"Sorry, you've run out of attempts. The correct number was {secret_number}. Better luck next time.\")\n",
    "\n",
    "if __name__ == \"__main__\":\n",
    "    number_guessing_game()\n"
   ]
  },
  {
   "cell_type": "code",
   "execution_count": null,
   "id": "748d5aaf",
   "metadata": {},
   "outputs": [],
   "source": []
  }
 ],
 "metadata": {
  "kernelspec": {
   "display_name": "Python 3 (ipykernel)",
   "language": "python",
   "name": "python3"
  },
  "language_info": {
   "codemirror_mode": {
    "name": "ipython",
    "version": 3
   },
   "file_extension": ".py",
   "mimetype": "text/x-python",
   "name": "python",
   "nbconvert_exporter": "python",
   "pygments_lexer": "ipython3",
   "version": "3.10.9"
  }
 },
 "nbformat": 4,
 "nbformat_minor": 5
}
